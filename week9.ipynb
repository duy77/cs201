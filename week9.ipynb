{
 "cells": [
  {
   "cell_type": "code",
   "execution_count": null,
   "metadata": {},
   "outputs": [],
   "source": [
    "# Object is not serializable\n",
    "\n",
    "# Why we need OOP?\n",
    "\n",
    "# Final project draft"
   ]
  },
  {
   "cell_type": "code",
   "execution_count": 2,
   "metadata": {},
   "outputs": [
    {
     "name": "stdout",
     "output_type": "stream",
     "text": [
      "1\n",
      "100\n"
     ]
    }
   ],
   "source": [
    "class X:\n",
    "    x = 1\n",
    "\n",
    "object1 = X()\n",
    "object1.x = 100\n",
    "\n",
    "print(X.x)\n",
    "print(object1.x)"
   ]
  },
  {
   "cell_type": "code",
   "execution_count": null,
   "metadata": {},
   "outputs": [],
   "source": [
    "class User:\n",
    "    pass\n",
    "\n",
    "guest = User()\n",
    "guest.first_name = \"Guest 1\"\n",
    "print(guest.first_name)\n",
    "\n",
    "print(guest)\n",
    "print(guest.__dict__)\n"
   ]
  },
  {
   "cell_type": "code",
   "execution_count": 15,
   "metadata": {},
   "outputs": [
    {
     "name": "stdout",
     "output_type": "stream",
     "text": [
      "Toyota\n",
      "False\n",
      "The Toyota has started now\n",
      "True\n"
     ]
    }
   ],
   "source": [
    "class Car:\n",
    "    def __init__(self, make, model, year, color):\n",
    "        self.make = make\n",
    "        self.model = model\n",
    "        self.year = year\n",
    "        self.color = color\n",
    "        self.started = False\n",
    "        self.speed = 0\n",
    "        self.max_speed = 200\n",
    "        \n",
    "    def start(self):\n",
    "        self.started = True\n",
    "        print(f\"The {self.make} has started now\")\n",
    "\n",
    "\n",
    "# create/instantiate an object/variable named \"my_car\" of the class \"Car\"\n",
    "my_car = Car(\"Toyota\", \"Corolla\", 2015, \"Red\")\n",
    "\n",
    "# we can also create object using named arguments\n",
    "my_car = Car(make=\"Toyota\", model=\"Corolla\", year=2015, color=\"Red\")\n",
    "\n",
    "# error because __init__ method cannot be called directly\n",
    "# my_car = Car.__init__(my_car, \"Toyota\", \"Corolla\", 2015, \"Red\")\n",
    "\n",
    "print(my_car.make)\n",
    "\n",
    "print(my_car.started)\n",
    "# this is the equivalent statement to my_car.start()\n",
    "# but, do not execute instance methods like this\n",
    "Car.start(my_car)\n",
    "print(my_car.started)\n",
    "\n"
   ]
  },
  {
   "cell_type": "code",
   "execution_count": null,
   "metadata": {},
   "outputs": [],
   "source": [
    "class BankAccount:\n",
    "    def __init__(self):\n",
    "        self.__balance = 0  # Private attribute\n",
    "\n",
    "    def deposit(self, amount):\n",
    "        if amount > 0:\n",
    "            self.__balance += amount\n",
    "\n",
    "    def withdraw(self, amount):\n",
    "        if 0 < amount <= self.__balance:\n",
    "            self.__balance -= amount\n",
    "        return amount\n",
    "\n",
    "    def get_balance(self):\n",
    "        return self.__balance"
   ]
  },
  {
   "cell_type": "code",
   "execution_count": 4,
   "metadata": {},
   "outputs": [
    {
     "ename": "ValueError",
     "evalue": "positive number expected",
     "output_type": "error",
     "traceback": [
      "\u001b[0;31m---------------------------------------------------------------------------\u001b[0m",
      "\u001b[0;31mValueError\u001b[0m                                Traceback (most recent call last)",
      "Cell \u001b[0;32mIn[4], line 15\u001b[0m\n\u001b[1;32m     12\u001b[0m             \u001b[38;5;28;01mraise\u001b[39;00m \u001b[38;5;167;01mValueError\u001b[39;00m(\u001b[38;5;124m\"\u001b[39m\u001b[38;5;124mpositive number expected\u001b[39m\u001b[38;5;124m\"\u001b[39m)\n\u001b[1;32m     13\u001b[0m         \u001b[38;5;28mself\u001b[39m\u001b[38;5;241m.\u001b[39m_radius \u001b[38;5;241m=\u001b[39m value\n\u001b[0;32m---> 15\u001b[0m c \u001b[38;5;241m=\u001b[39m \u001b[43mCircle\u001b[49m\u001b[43m(\u001b[49m\u001b[38;5;241;43m-\u001b[39;49m\u001b[38;5;241;43m5\u001b[39;49m\u001b[43m)\u001b[49m\n\u001b[1;32m     16\u001b[0m \u001b[38;5;28mprint\u001b[39m(c\u001b[38;5;241m.\u001b[39mradius)\n",
      "Cell \u001b[0;32mIn[4], line 3\u001b[0m, in \u001b[0;36mCircle.__init__\u001b[0;34m(self, radius)\u001b[0m\n\u001b[1;32m      2\u001b[0m \u001b[38;5;28;01mdef\u001b[39;00m \u001b[38;5;21m__init__\u001b[39m(\u001b[38;5;28mself\u001b[39m, radius):\n\u001b[0;32m----> 3\u001b[0m     \u001b[38;5;28;43mself\u001b[39;49m\u001b[38;5;241;43m.\u001b[39;49m\u001b[43mradius\u001b[49m \u001b[38;5;241m=\u001b[39m radius\n",
      "Cell \u001b[0;32mIn[4], line 12\u001b[0m, in \u001b[0;36mCircle.radius\u001b[0;34m(self, value)\u001b[0m\n\u001b[1;32m      9\u001b[0m \u001b[38;5;129m@radius\u001b[39m\u001b[38;5;241m.\u001b[39msetter\n\u001b[1;32m     10\u001b[0m \u001b[38;5;28;01mdef\u001b[39;00m \u001b[38;5;21mradius\u001b[39m(\u001b[38;5;28mself\u001b[39m, value):\n\u001b[1;32m     11\u001b[0m     \u001b[38;5;28;01mif\u001b[39;00m \u001b[38;5;129;01mnot\u001b[39;00m \u001b[38;5;28misinstance\u001b[39m(value, (\u001b[38;5;28mint\u001b[39m, \u001b[38;5;28mfloat\u001b[39m)) \u001b[38;5;129;01mor\u001b[39;00m value \u001b[38;5;241m<\u001b[39m\u001b[38;5;241m=\u001b[39m \u001b[38;5;241m0\u001b[39m:\n\u001b[0;32m---> 12\u001b[0m         \u001b[38;5;28;01mraise\u001b[39;00m \u001b[38;5;167;01mValueError\u001b[39;00m(\u001b[38;5;124m\"\u001b[39m\u001b[38;5;124mpositive number expected\u001b[39m\u001b[38;5;124m\"\u001b[39m)\n\u001b[1;32m     13\u001b[0m     \u001b[38;5;28mself\u001b[39m\u001b[38;5;241m.\u001b[39m_radius \u001b[38;5;241m=\u001b[39m value\n",
      "\u001b[0;31mValueError\u001b[0m: positive number expected"
     ]
    }
   ],
   "source": [
    "class Circle:\n",
    "    def __init__(self, radius):\n",
    "        self._radius = radius\n",
    "\n",
    "    @property\n",
    "    def radius(self):\n",
    "        return self._radius\n",
    "\n",
    "    @radius.setter\n",
    "    def radius(self, value):\n",
    "        if not isinstance(value, (int, float)) or value <= 0:\n",
    "            raise ValueError(\"positive number expected\")\n",
    "        self._radius = value\n",
    "\n",
    "c = Circle(-5)\n",
    "print(c.radius)\n",
    "\n",
    "# To prevent the user from setting a negative radius, we can use a property setter\n",
    "# .radius instead of ._radius\n",
    "#\n",
    "# class Circle:\n",
    "#     def __init__(self, radius):\n",
    "#         self.radius = radius\n"
   ]
  },
  {
   "cell_type": "code",
   "execution_count": 6,
   "metadata": {},
   "outputs": [
    {
     "name": "stdout",
     "output_type": "stream",
     "text": [
      "Toyota, Corolla, Red: (2015)\n",
      "Car(make=\"Toyota\", model=\"Corolla\", year=2015, color=\"Red\")\n"
     ]
    }
   ],
   "source": [
    "class Car:\n",
    "    def __init__(self, make, model, year, color):\n",
    "        self.make = make\n",
    "        self.model = model\n",
    "        self.year = year\n",
    "        self.color = color\n",
    "        self.started = False\n",
    "        self.speed = 0\n",
    "        self.max_speed = 200\n",
    "\n",
    "    def __str__(self): # informal string representation\n",
    "        return f\"{self.make}, {self.model}, {self.color}: ({self.year})\"\n",
    "\n",
    "    def __repr__(self): # formal string representation\n",
    "        return (\n",
    "            f\"{type(self).__name__}\"\n",
    "            f'(make=\"{self.make}\", '\n",
    "            f'model=\"{self.model}\", '\n",
    "            f\"year={self.year}, \"\n",
    "            f'color=\"{self.color}\")'\n",
    "        )\n",
    "\n",
    "c = Car(\"Toyota\", \"Corolla\", 2015, \"Red\")\n",
    "print(c)\n",
    "print(repr(c))\n"
   ]
  },
  {
   "cell_type": "code",
   "execution_count": 5,
   "metadata": {},
   "outputs": [
    {
     "data": {
      "text/plain": [
       "{'name': 'Jane Doe', 'job': 'Data Engineer'}"
      ]
     },
     "execution_count": 5,
     "metadata": {},
     "output_type": "execute_result"
    }
   ],
   "source": [
    "class User:\n",
    "    pass\n",
    "\n",
    "jane = User()\n",
    "jane.name = \"Jane Doe\"\n",
    "jane.job = \"Data Engineer\"\n",
    "jane.__dict__\n"
   ]
  }
 ],
 "metadata": {
  "kernelspec": {
   "display_name": "Python 3",
   "language": "python",
   "name": "python3"
  },
  "language_info": {
   "codemirror_mode": {
    "name": "ipython",
    "version": 3
   },
   "file_extension": ".py",
   "mimetype": "text/x-python",
   "name": "python",
   "nbconvert_exporter": "python",
   "pygments_lexer": "ipython3",
   "version": "3.11.7"
  }
 },
 "nbformat": 4,
 "nbformat_minor": 2
}
